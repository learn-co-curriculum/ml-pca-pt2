{
 "cells": [
  {
   "cell_type": "markdown",
   "metadata": {},
   "source": [
    "# PCA part II"
   ]
  },
  {
   "cell_type": "markdown",
   "metadata": {},
   "source": [
    "## 1. So how can you use PCA for dimensionality reduction?"
   ]
  },
  {
   "cell_type": "markdown",
   "metadata": {},
   "source": [
    "As seen in the previous lab, it is easy to create an eigendecomposition of the covariance matrix. Now, let's have a look at a crucial property of PCA which makes it so useful."
   ]
  },
  {
   "cell_type": "markdown",
   "metadata": {},
   "source": [
    "The total information in your data does not change when performing PCA:\n",
    "\n",
    "$$var(PC_1) +  var(PC_2) + \\ldots + var(PC_p) $$\n",
    "$$= \\lambda_1 + \\lambda_2 + \\ldots + \\lambda_p $$ \n",
    "which is equal to the trace of the covariance matrix, which is again equal to:\n",
    "$$ var(x_1)+ var(x_2) + var(x_3)+\\ldots+ var(x_p)$$"
   ]
  },
  {
   "cell_type": "markdown",
   "metadata": {},
   "source": [
    "A PC with little variance doesn't hold a lot of information. What you'll do is keep the PCs with high variances (high eigenvalues) and delete the onces that have low eigenvalues. Your newly created PCs are the new variables to your data set!"
   ]
  },
  {
   "cell_type": "markdown",
   "metadata": {},
   "source": [
    "## 2. How much information are we willing to sacrifice?"
   ]
  },
  {
   "cell_type": "markdown",
   "metadata": {},
   "source": [
    "We'll want to sort eigenvalues from bigger to smaller and retain the PCs that are related to the bigger eigenvalues."
   ]
  },
  {
   "cell_type": "markdown",
   "metadata": {},
   "source": [
    "![title](PCA.png)"
   ]
  },
  {
   "cell_type": "markdown",
   "metadata": {},
   "source": [
    "Which one do you prefer?"
   ]
  },
  {
   "cell_type": "markdown",
   "metadata": {},
   "source": [
    "![title](PCA_2.png)"
   ]
  },
  {
   "cell_type": "markdown",
   "metadata": {},
   "source": [
    "Some decision rules:\n",
    "- Extract PCs until a given percentage is explained\n",
    "- Retain PCs with an eigenvalue larger than a certain value (eg, 1)\n",
    "- Look at a scree plot"
   ]
  },
  {
   "cell_type": "markdown",
   "metadata": {},
   "source": [
    "## 3. Trying to understand the principal components"
   ]
  },
  {
   "cell_type": "markdown",
   "metadata": {},
   "source": [
    "Now, we have these new variables, and we know that \n",
    "\n",
    "$PC_j =  e_{j1} X_1+e_{j2} X_2+\\ldots+e_{jp} X_p$\n"
   ]
  },
  {
   "cell_type": "markdown",
   "metadata": {},
   "source": [
    "Now, we'd like to understand to what extent the original variables are important for the PCs.\n",
    "\n",
    "We call $e_{ji}$ the *pattern loading* for original variable $x_i$ to principal component $PC_j$."
   ]
  },
  {
   "cell_type": "markdown",
   "metadata": {},
   "source": [
    "The *structure loading* is $corr(x_i,PC_j) = \\dfrac{ e_{ji} \\sqrt{\\lambda_j}}{s_i}$ where $s_i$ is the standard deviation of the $i$th variable. $s_i$ is 1 when using standardized variables!"
   ]
  },
  {
   "cell_type": "markdown",
   "metadata": {},
   "source": [
    "Structure loadings are very useful when interpreting the meaning of *PCs*. The higher the value, the more influence the variable had in the formation of the PC scores.\n",
    "\n",
    "What is *influential*? --> The traditional cut-pff point for structural loadings is 0.5.\n",
    "\n",
    "\n",
    "In the next lab, we'll explore the structure loadings for our models and see how we interpret our PCA model."
   ]
  },
  {
   "cell_type": "markdown",
   "metadata": {},
   "source": [
    "## 4. biplots and interpretation"
   ]
  },
  {
   "cell_type": "markdown",
   "metadata": {},
   "source": [
    "eigenvectors are plottet together with the PC scores on the same graph."
   ]
  },
  {
   "cell_type": "code",
   "execution_count": null,
   "metadata": {},
   "outputs": [],
   "source": []
  }
 ],
 "metadata": {
  "kernelspec": {
   "display_name": "Python 3",
   "language": "python",
   "name": "python3"
  },
  "language_info": {
   "codemirror_mode": {
    "name": "ipython",
    "version": 3
   },
   "file_extension": ".py",
   "mimetype": "text/x-python",
   "name": "python",
   "nbconvert_exporter": "python",
   "pygments_lexer": "ipython3",
   "version": "3.6.4"
  }
 },
 "nbformat": 4,
 "nbformat_minor": 2
}
