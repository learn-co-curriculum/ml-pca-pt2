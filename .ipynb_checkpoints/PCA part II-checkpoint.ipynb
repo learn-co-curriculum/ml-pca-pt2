{
 "cells": [
  {
   "cell_type": "markdown",
   "metadata": {},
   "source": [
    "# PCA part II"
   ]
  },
  {
   "cell_type": "markdown",
   "metadata": {},
   "source": [
    "## So how can you use PCA for dimensionality reduction?"
   ]
  },
  {
   "cell_type": "markdown",
   "metadata": {},
   "source": [
    "As seen in the previous lab, it is easy to create an eigendecomposition of the covariance matrix. Now, let's have a look at a crucial property of PCA which makes it so useful."
   ]
  },
  {
   "cell_type": "markdown",
   "metadata": {},
   "source": [
    "The total information in your data does not change when performing PCA:\n",
    "\n",
    "$$var(PC_1) +  var(PC_2) + \\ldots + var(PC_p) $$\n",
    "$$= \\lambda_1 + \\lambda_2 + \\ldots + \\lambda_p $$ \n",
    "which is equal to the trace of the covariance matrix, which is again equal to:\n",
    "$$ var(x_1)+ var(x_2) + var(x_3)+\\ldots+ var(x_p)$$"
   ]
  },
  {
   "cell_type": "code",
   "execution_count": null,
   "metadata": {},
   "outputs": [],
   "source": []
  }
 ],
 "metadata": {
  "kernelspec": {
   "display_name": "Python 3",
   "language": "python",
   "name": "python3"
  },
  "language_info": {
   "codemirror_mode": {
    "name": "ipython",
    "version": 3
   },
   "file_extension": ".py",
   "mimetype": "text/x-python",
   "name": "python",
   "nbconvert_exporter": "python",
   "pygments_lexer": "ipython3",
   "version": "3.6.4"
  }
 },
 "nbformat": 4,
 "nbformat_minor": 2
}
